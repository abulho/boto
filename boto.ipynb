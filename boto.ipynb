{
 "cells": [
  {
   "cell_type": "code",
   "execution_count": 1,
   "metadata": {
    "collapsed": true
   },
   "outputs": [],
   "source": [
    "# import boto 3 client\n",
    "import boto3"
   ]
  },
  {
   "cell_type": "code",
   "execution_count": 4,
   "metadata": {
    "collapsed": true
   },
   "outputs": [],
   "source": [
    "s3 = boto3.client('s3')"
   ]
  },
  {
   "cell_type": "code",
   "execution_count": 6,
   "metadata": {},
   "outputs": [],
   "source": [
    "s3.upload_file('s3_testing.txt','abdulla-first-bucket','s3_testing.txt')"
   ]
  },
  {
   "cell_type": "code",
   "execution_count": 7,
   "metadata": {},
   "outputs": [
    {
     "name": "stdout",
     "output_type": "stream",
     "text": [
      "                           PRE examples/\r\n",
      "                           PRE scripts/\r\n",
      "2017-12-21 10:24:45  513467395 EXTR_RPSale.csv\r\n",
      "2017-12-21 10:05:54  147019290 EXTR_ResBldg.csv\r\n",
      "2017-12-18 16:39:36       3686 cancer.csv\r\n",
      "2018-04-08 19:51:18         25 s3_testing.txt\r\n"
     ]
    }
   ],
   "source": [
    "! aws s3 ls s3://abdulla-first-bucket"
   ]
  },
  {
   "cell_type": "code",
   "execution_count": 8,
   "metadata": {
    "collapsed": true
   },
   "outputs": [],
   "source": [
    "import boto3\n",
    "\n",
    "def upload_s3(file_name, bucket_name, key):\n",
    "    '''\n",
    "    uploads a file into an existing amazon s3 bucket\n",
    "    \n",
    "    Parameters:\n",
    "    ----------\n",
    "    [str] file_name   : file name, including the path, to upload into the s3\n",
    "    [str] bucket_name : the name of the s3 bucket to load the file into\n",
    "    [str] key         : the name to be called when the file gets uploaded to s3 (can be same as file_name)\n",
    "    \n",
    "    Returns:\n",
    "    -------\n",
    "    This function does not return anything\n",
    "    It uploads a given file to the stated AWS s3 bucket\n",
    "    \n",
    "    '''\n",
    "    s3 = boto3.client('s3')\n",
    "    s3.upload_file(file_name, bucket_name, key)"
   ]
  },
  {
   "cell_type": "code",
   "execution_count": 9,
   "metadata": {
    "collapsed": true
   },
   "outputs": [],
   "source": [
    "upload_s3('s3_testing_v1.txt', 'abdulla-first-bucket','s3_testing_v1.txt')"
   ]
  },
  {
   "cell_type": "code",
   "execution_count": 10,
   "metadata": {},
   "outputs": [
    {
     "name": "stdout",
     "output_type": "stream",
     "text": [
      "                           PRE examples/\r\n",
      "                           PRE scripts/\r\n",
      "2017-12-21 10:24:45  513467395 EXTR_RPSale.csv\r\n",
      "2017-12-21 10:05:54  147019290 EXTR_ResBldg.csv\r\n",
      "2017-12-18 16:39:36       3686 cancer.csv\r\n",
      "2018-04-08 19:51:18         25 s3_testing.txt\r\n",
      "2018-04-08 20:04:43         21 s3_testing_v1.txt\r\n"
     ]
    }
   ],
   "source": [
    "! aws s3 ls s3://abdulla-first-bucket"
   ]
  },
  {
   "cell_type": "code",
   "execution_count": null,
   "metadata": {
    "collapsed": true
   },
   "outputs": [],
   "source": []
  },
  {
   "cell_type": "code",
   "execution_count": null,
   "metadata": {
    "collapsed": true
   },
   "outputs": [],
   "source": []
  }
 ],
 "metadata": {
  "kernelspec": {
   "display_name": "Python 3",
   "language": "python",
   "name": "python3"
  },
  "language_info": {
   "codemirror_mode": {
    "name": "ipython",
    "version": 3
   },
   "file_extension": ".py",
   "mimetype": "text/x-python",
   "name": "python",
   "nbconvert_exporter": "python",
   "pygments_lexer": "ipython3",
   "version": "3.6.3"
  }
 },
 "nbformat": 4,
 "nbformat_minor": 2
}
